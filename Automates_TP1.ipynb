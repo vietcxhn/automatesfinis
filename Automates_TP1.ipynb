{
 "cells": [
  {
   "cell_type": "markdown",
   "metadata": {
    "id": "tm7J027xlF-e"
   },
   "source": [
    "# Automates finis - TP 1 \n",
    "\n",
    "### Objectif du TP\n",
    "\n",
    "L'objectif de ce premier TP est d'implémenter un programme avec deux [arguments](https://riptutorial.com/fr/python/example/6530/utilisation-d-arguments-en-ligne-de-commande-avec-argv): un fichier `.txt` contenant la description d'un automate fini _A_ et un mot _m_ à reconnaître. Votre programme doit (a) lire/charger l'automate _A_ à partir du fichier `.txt`, (b) afficher _ERROR_ si l'automate est non déterministe, ou (c) si, au contraire, l'automate est déterministe, afficher _YES_ si le mot peut être reconnu par l'automate, ou _NO_ si le mot ne peut pas être reconnu par l'automate."
   ]
  },
  {
   "cell_type": "markdown",
   "metadata": {
    "id": "uKx7OCiolF-0"
   },
   "source": [
    "## Environnement de travail\n",
    "\n",
    "**Énoncés**: les énoncés des TPs d'automates finis vous sont fournis en deux formats identiques: en [PDF](https://github.com/ceramisch/automatesfinis/raw/main/Automates_TP1.pdf) et sous la forme de [notebook Jupyter](https://github.com/ceramisch/automatesfinis/blob/main/Automates_TP1.ipynb) `.ipynb`, avec du code python intégré. Ce dernier vous permet de tester des bouts de code python tout de suite, directement pendant que vous lisez l'énoncé. Vous pouvez exécuter les notebooks en ligne directement avec Binder: [https://mybinder.org/v2/gh/ceramisch/automatesfinis/HEAD?filepath=Automates_TP1.ipynb](https://mybinder.org/v2/gh/ceramisch/automatesfinis/HEAD?filepath=Automates_TP1.ipynb) -- c'est probablement ce que vous venez de faire. Alternativement, [installez Jupyter sur votre ordinateur](https://jupyter.org/install) (avec Anaconda, ou séparément), puis ouvrez le notebook [Automates_TP1.ipynb](https://github.com/ceramisch/automatesfinis/blob/main/Automates_TP1.ipynb), ou alors ouvrez-le en utilisant [Google Colab](https://colab.research.google.com/).\n",
    "\n",
    "**Programmation python** Une fois que vous aurez lu l'énoncé, vous devrez écrire un programme pour répondre à l'objectif. Vous ne devez pas programmer sur les notebook Jupyter directement, mais dans votre propre environnement de programmation. Le langage de programmation à utiliser est libre. Cependant, il est recommandé d'utiliser du python car nous vous fournissons une bibliothèque de base (cf. ci-dessous). De plus, cette bibliothèque est intégrée avec les énoncés au format notebook Jupyter, et peut afficher des automates sous forme graphique. Pour programmer, utilisez l'environnement que vous préférez. Vous pouvez utiliser une IDE installée, telle que intelliJ, eclipse, pycharm, Spyder ou autre. Vous pouvez utiliser un simple éditeur de texte comme atom, SublimeText, geany ou Notepad++. Vous pouvez utiliser l'environnement de programmation 100% en ligne [repl.it](http://repl.it) mais celui-ci ne permet pas l'affichage graphique avec graphviz (pas indispensable, mais pratique pour déboguer).\n",
    "\n",
    "**Dépôt de fichiers**: les TP sont incrémentaux : on a besoin du TP1 pour faire le TP2, etc... Au final, les TP auront la forme d'un mini-projet. Votre projet sera capable de lire une expression régulière et reconnaître si un mot quelconque peut être reconnu par cette expression. Prenez un moment maintenant pour préparer votre environnement de travail. Nous vous conseillons de créer un dépôt de contrôle de version `git` pour ce mini-projet, par exemple sur [github.com](https://github.com) ou [gitlab.com](https://gitlab.com). Alternativement, créez une dossier Dropbox, Google Drive ou AMUBox synchronisé pour sauvegarder. Si vous n'arrivez pas à finir le TP pendant le créneau de TP, il faudra finir en dehors, avant le prochain TP, pour éviter de prendre du retard.\n",
    "\n",
    "**Installation des pré-requis**: Pour les affichages graphiques ci-dessous, vous devez installer l'outil `graphviz` et la bibliothèque python correspondante. Sur Linux, une fois python 3 installé, vous pouvez exécuter:\n",
    "```bash\n",
    "sudo apt install graphviz\n",
    "pip3 install graphviz\n",
    "```\n",
    "Si vous êtes sur Windows, le plus simple est d'installer Anaconda. Une fois que vous l'avez téléchargé et installé, allez sur Anaconda Navigator > Environement > Update index. Affichez les packages 'Not installed' au lieu de 'Installed' puis cherchez _graphviz_ dans la barre de recherche. Installez les packages _graphviz_ et _python-graphviz_ (les deux sont nécessaires). Ensuite, vous pouvez revenir à la page d'accueil (Home) et lancer l'IDE Spyder. \n"
   ]
  },
  {
   "cell_type": "markdown",
   "metadata": {
    "id": "lEi3yB9elF-3"
   },
   "source": [
    "## Format de fichier `.txt`\n",
    "\n",
    "Un automate décrit dans un fichier `.txt` (UTF-8) consiste en une suite de lignes terminées par `\\n` (CR), où chaque ligne est un triplet, sauf la dernière. Les éléments du triplet sont séparés par des espaces. Le triplet `X Y a` correspond à une transition entre un état source `X` et un état cible `Y` étiquetée par le symbole `a`. Par convention, il est recommandé de représenter les états `X` et `Y` avec des nombres, et les symboles `a` avec des lettres majuscules ou minuscules non-accentuées. Le symbole spécial `%` est utilisé pour les transition-ε des automates non-déterministes.  Le premier état source de la première transition est considéré comme l'état initial de l'automate. La dernière ligne est toujours précédée de la lettre majuscule `A` indiquant les états d'acceptation. Ensuite, les états d'acceptation sont listés, séparés par des espaces.\n",
    "\n",
    "Voici un exemple d'automate déterministe décrit dans un fichier. Cet automate reconnait _a\\*+b\\*_. Pour vous en convaincre, dessinez-le sur une feuille:"
   ]
  },
  {
   "cell_type": "code",
   "execution_count": 1,
   "metadata": {
    "id": "Gxg9RdhclF-9"
   },
   "outputs": [],
   "source": [
    "source = \"\"\"0 a 1\n",
    "0 b 2\n",
    "1 a 1\n",
    "2 b 2\n",
    "A 0 1 2\n",
    "\"\"\""
   ]
  },
  {
   "cell_type": "markdown",
   "metadata": {
    "id": "RnT0JPsFlF_L"
   },
   "source": [
    "## Bibliothèque `automaton.py` fournie\n",
    "\n",
    "Nous vous fournissons une bibliothèque python `automaton.py`, disponible sur [le github du cours](https://github.com/ceramisch/automatesfinis), avec les fonctionnalités suivantes:\n",
    "*   Création et manipulation d'un objet `Automaton` qui représente un automate fini \n",
    "*   Lecture et écriture à partir d'un fichier textuel\n",
    "*   Affichage graphique à l'aide de `graphviz`\n",
    "\n",
    "Si vous décidez de l'utiliser, cela peut vous faire gagner du temps. Cependant, vous devez bien comprendre le fonctionnement de cette bibliothèque. Les prochaines sections vous permettent de l'essayer. Si vous préférez ne pas utiliser la bibliothèque, allez directement à la dernière section [Travail à effectuer](#Travail-à-effectuer).\n",
    "Si vous êtes à l'aise en python, vous pouvez ouvrir le code de la bibliothèque et le modifier comme bon vous semble. Vous pouvez aussi n'utiliser qu'une partie des fonctionnalités fournies.\n",
    "\n",
    "Pour commencer, vous devez importer la bibliothèque fournie `automaton.py`, qui doit être placée dans le même dossier où se trouve votre script/programme source. Ensuite, vous pouvez créer un nouvel automate et lui donner un nom. Cet automate, pour le moment, sera vide (vérifiez en exécutant le code ci-dessous):"
   ]
  },
  {
   "cell_type": "code",
   "execution_count": 2,
   "metadata": {
    "id": "AxNHmu1AlF_M",
    "scrolled": true
   },
   "outputs": [
    {
     "data": {
      "image/svg+xml": [
       "<?xml version=\"1.0\" encoding=\"UTF-8\" standalone=\"no\"?>\n",
       "<!DOCTYPE svg PUBLIC \"-//W3C//DTD SVG 1.1//EN\"\n",
       " \"http://www.w3.org/Graphics/SVG/1.1/DTD/svg11.dtd\">\n",
       "<!-- Generated by graphviz version 2.40.1 (20161225.0304)\n",
       " -->\n",
       "<!-- Title: L Pages: 1 -->\n",
       "<svg width=\"62pt\" height=\"68pt\"\n",
       " viewBox=\"0.00 0.00 62.00 68.00\" xmlns=\"http://www.w3.org/2000/svg\" xmlns:xlink=\"http://www.w3.org/1999/xlink\">\n",
       "<g id=\"graph0\" class=\"graph\" transform=\"scale(1 1) rotate(0) translate(4 64)\">\n",
       "<title>L</title>\n",
       "<polygon fill=\"#ffffff\" stroke=\"transparent\" points=\"-4,4 -4,-64 58,-64 58,4 -4,4\"/>\n",
       "<text text-anchor=\"middle\" x=\"27\" y=\"-7.8\" font-family=\"Times,serif\" font-size=\"14.00\" fill=\"#000000\">a_test</text>\n",
       "<!-- a -->\n",
       "<g id=\"node1\" class=\"node\">\n",
       "<title>a</title>\n",
       "<polygon fill=\"none\" stroke=\"#000000\" points=\"0,-23.5 0,-59.5 54,-59.5 54,-23.5 0,-23.5\"/>\n",
       "<text text-anchor=\"middle\" x=\"27\" y=\"-37.8\" font-family=\"Times,serif\" font-size=\"14.00\" fill=\"#000000\">empty</text>\n",
       "</g>\n",
       "</g>\n",
       "</svg>\n"
      ],
      "text/plain": [
       "<automaton.Automaton at 0x7f38e566c6a0>"
      ]
     },
     "execution_count": 2,
     "metadata": {},
     "output_type": "execute_result"
    }
   ],
   "source": [
    "import automaton\n",
    "a_test = automaton.Automaton(\"a_test\")\n",
    "a_test"
   ]
  },
  {
   "cell_type": "markdown",
   "metadata": {
    "id": "3SJ9uf3JlF_W"
   },
   "source": [
    "Vous pouvez ensuite ajouter des états et des transitions. La source de la première transition sera considérée comme l'état initial:"
   ]
  },
  {
   "cell_type": "code",
   "execution_count": 3,
   "metadata": {
    "id": "nc9s4FjYlF_Y",
    "scrolled": true
   },
   "outputs": [
    {
     "data": {
      "image/svg+xml": [
       "<?xml version=\"1.0\" encoding=\"UTF-8\" standalone=\"no\"?>\n",
       "<!DOCTYPE svg PUBLIC \"-//W3C//DTD SVG 1.1//EN\"\n",
       " \"http://www.w3.org/Graphics/SVG/1.1/DTD/svg11.dtd\">\n",
       "<!-- Generated by graphviz version 2.40.1 (20161225.0304)\n",
       " -->\n",
       "<!-- Title: finite_state_machine Pages: 1 -->\n",
       "<svg width=\"161pt\" height=\"67pt\"\n",
       " viewBox=\"0.00 0.00 161.00 67.00\" xmlns=\"http://www.w3.org/2000/svg\" xmlns:xlink=\"http://www.w3.org/1999/xlink\">\n",
       "<g id=\"graph0\" class=\"graph\" transform=\"scale(1 1) rotate(0) translate(4 63)\">\n",
       "<title>finite_state_machine</title>\n",
       "<polygon fill=\"#ffffff\" stroke=\"transparent\" points=\"-4,4 -4,-63 157,-63 157,4 -4,4\"/>\n",
       "<text text-anchor=\"middle\" x=\"76.5\" y=\"-7.8\" font-family=\"Times,serif\" font-size=\"14.00\" fill=\"#000000\">a_test</text>\n",
       "<!-- __I__ -->\n",
       "<!-- 0 -->\n",
       "<g id=\"node2\" class=\"node\">\n",
       "<title>0</title>\n",
       "<ellipse fill=\"none\" stroke=\"#000000\" cx=\"56\" cy=\"-41\" rx=\"18\" ry=\"18\"/>\n",
       "<text text-anchor=\"middle\" x=\"56\" y=\"-37.3\" font-family=\"Times,serif\" font-size=\"14.00\" fill=\"#000000\">0</text>\n",
       "</g>\n",
       "<!-- __I__&#45;&gt;0 -->\n",
       "<g id=\"edge1\" class=\"edge\">\n",
       "<title>__I__&#45;&gt;0</title>\n",
       "<path fill=\"none\" stroke=\"#000000\" d=\"M1.1233,-41C3.9234,-41 15.7247,-41 27.6695,-41\"/>\n",
       "<polygon fill=\"#000000\" stroke=\"#000000\" points=\"27.9808,-44.5001 37.9807,-41 27.9807,-37.5001 27.9808,-44.5001\"/>\n",
       "</g>\n",
       "<!-- 1 -->\n",
       "<g id=\"node3\" class=\"node\">\n",
       "<title>1</title>\n",
       "<ellipse fill=\"none\" stroke=\"#000000\" cx=\"135\" cy=\"-41\" rx=\"18\" ry=\"18\"/>\n",
       "<text text-anchor=\"middle\" x=\"135\" y=\"-37.3\" font-family=\"Times,serif\" font-size=\"14.00\" fill=\"#000000\">1</text>\n",
       "</g>\n",
       "<!-- 0&#45;&gt;1 -->\n",
       "<g id=\"edge2\" class=\"edge\">\n",
       "<title>0&#45;&gt;1</title>\n",
       "<path fill=\"none\" stroke=\"#000000\" d=\"M74.3228,-41C83.8947,-41 95.8223,-41 106.5629,-41\"/>\n",
       "<polygon fill=\"#000000\" stroke=\"#000000\" points=\"106.7766,-44.5001 116.7766,-41 106.7766,-37.5001 106.7766,-44.5001\"/>\n",
       "<text text-anchor=\"middle\" x=\"95.5\" y=\"-44.8\" font-family=\"Times,serif\" font-size=\"14.00\" fill=\"#000000\">a</text>\n",
       "</g>\n",
       "</g>\n",
       "</svg>\n"
      ],
      "text/plain": [
       "<automaton.Automaton at 0x7f38e566c6a0>"
      ]
     },
     "execution_count": 3,
     "metadata": {},
     "output_type": "execute_result"
    }
   ],
   "source": [
    "a_test.reset()\n",
    "a_test.add_transition(\"0\",\"a\",\"1\")\n",
    "a_test"
   ]
  },
  {
   "cell_type": "markdown",
   "metadata": {
    "id": "u--4U1fflF_f"
   },
   "source": [
    "Notez que cet automate ne reconnait aucun mot, car il n'a aucun état d'acceptation/final. Vous pouvez marquer un ou plusieurs états comme finaux à l'aide de la fonction suivante:"
   ]
  },
  {
   "cell_type": "code",
   "execution_count": 4,
   "metadata": {
    "id": "GqY3WJ_8lF_f",
    "scrolled": true
   },
   "outputs": [
    {
     "data": {
      "image/svg+xml": [
       "<?xml version=\"1.0\" encoding=\"UTF-8\" standalone=\"no\"?>\n",
       "<!DOCTYPE svg PUBLIC \"-//W3C//DTD SVG 1.1//EN\"\n",
       " \"http://www.w3.org/Graphics/SVG/1.1/DTD/svg11.dtd\">\n",
       "<!-- Generated by graphviz version 2.40.1 (20161225.0304)\n",
       " -->\n",
       "<!-- Title: finite_state_machine Pages: 1 -->\n",
       "<svg width=\"169pt\" height=\"75pt\"\n",
       " viewBox=\"0.00 0.00 169.00 75.00\" xmlns=\"http://www.w3.org/2000/svg\" xmlns:xlink=\"http://www.w3.org/1999/xlink\">\n",
       "<g id=\"graph0\" class=\"graph\" transform=\"scale(1 1) rotate(0) translate(4 71)\">\n",
       "<title>finite_state_machine</title>\n",
       "<polygon fill=\"#ffffff\" stroke=\"transparent\" points=\"-4,4 -4,-71 165,-71 165,4 -4,4\"/>\n",
       "<text text-anchor=\"middle\" x=\"80.5\" y=\"-7.8\" font-family=\"Times,serif\" font-size=\"14.00\" fill=\"#000000\">a_test</text>\n",
       "<!-- 1 -->\n",
       "<g id=\"node1\" class=\"node\">\n",
       "<title>1</title>\n",
       "<ellipse fill=\"none\" stroke=\"#000000\" cx=\"139\" cy=\"-45\" rx=\"18\" ry=\"18\"/>\n",
       "<ellipse fill=\"none\" stroke=\"#000000\" cx=\"139\" cy=\"-45\" rx=\"22\" ry=\"22\"/>\n",
       "<text text-anchor=\"middle\" x=\"139\" y=\"-41.3\" font-family=\"Times,serif\" font-size=\"14.00\" fill=\"#000000\">1</text>\n",
       "</g>\n",
       "<!-- __I__ -->\n",
       "<!-- 0 -->\n",
       "<g id=\"node3\" class=\"node\">\n",
       "<title>0</title>\n",
       "<ellipse fill=\"none\" stroke=\"#000000\" cx=\"56\" cy=\"-45\" rx=\"18\" ry=\"18\"/>\n",
       "<text text-anchor=\"middle\" x=\"56\" y=\"-41.3\" font-family=\"Times,serif\" font-size=\"14.00\" fill=\"#000000\">0</text>\n",
       "</g>\n",
       "<!-- __I__&#45;&gt;0 -->\n",
       "<g id=\"edge1\" class=\"edge\">\n",
       "<title>__I__&#45;&gt;0</title>\n",
       "<path fill=\"none\" stroke=\"#000000\" d=\"M1.1233,-45C3.9234,-45 15.7247,-45 27.6695,-45\"/>\n",
       "<polygon fill=\"#000000\" stroke=\"#000000\" points=\"27.9808,-48.5001 37.9807,-45 27.9807,-41.5001 27.9808,-48.5001\"/>\n",
       "</g>\n",
       "<!-- 0&#45;&gt;1 -->\n",
       "<g id=\"edge2\" class=\"edge\">\n",
       "<title>0&#45;&gt;1</title>\n",
       "<path fill=\"none\" stroke=\"#000000\" d=\"M74.0098,-45C83.5483,-45 95.5554,-45 106.6456,-45\"/>\n",
       "<polygon fill=\"#000000\" stroke=\"#000000\" points=\"106.887,-48.5001 116.887,-45 106.8869,-41.5001 106.887,-48.5001\"/>\n",
       "<text text-anchor=\"middle\" x=\"95.5\" y=\"-48.8\" font-family=\"Times,serif\" font-size=\"14.00\" fill=\"#000000\">a</text>\n",
       "</g>\n",
       "</g>\n",
       "</svg>\n"
      ],
      "text/plain": [
       "<automaton.Automaton at 0x7f38e566c6a0>"
      ]
     },
     "execution_count": 4,
     "metadata": {},
     "output_type": "execute_result"
    }
   ],
   "source": [
    "a_test.make_accept(\"1\")\n",
    "a_test"
   ]
  },
  {
   "cell_type": "markdown",
   "metadata": {
    "id": "h1YhqeWmlF_l"
   },
   "source": [
    "Alternativement, vous pouvez marquer plusieurs états comme états d'acceptation:"
   ]
  },
  {
   "cell_type": "code",
   "execution_count": 5,
   "metadata": {
    "id": "tbCs2xKwlF_n"
   },
   "outputs": [
    {
     "data": {
      "image/svg+xml": [
       "<?xml version=\"1.0\" encoding=\"UTF-8\" standalone=\"no\"?>\n",
       "<!DOCTYPE svg PUBLIC \"-//W3C//DTD SVG 1.1//EN\"\n",
       " \"http://www.w3.org/Graphics/SVG/1.1/DTD/svg11.dtd\">\n",
       "<!-- Generated by graphviz version 2.40.1 (20161225.0304)\n",
       " -->\n",
       "<!-- Title: finite_state_machine Pages: 1 -->\n",
       "<svg width=\"177pt\" height=\"75pt\"\n",
       " viewBox=\"0.00 0.00 177.00 75.00\" xmlns=\"http://www.w3.org/2000/svg\" xmlns:xlink=\"http://www.w3.org/1999/xlink\">\n",
       "<g id=\"graph0\" class=\"graph\" transform=\"scale(1 1) rotate(0) translate(4 71)\">\n",
       "<title>finite_state_machine</title>\n",
       "<polygon fill=\"#ffffff\" stroke=\"transparent\" points=\"-4,4 -4,-71 173,-71 173,4 -4,4\"/>\n",
       "<text text-anchor=\"middle\" x=\"84.5\" y=\"-7.8\" font-family=\"Times,serif\" font-size=\"14.00\" fill=\"#000000\">a_test</text>\n",
       "<!-- 0 -->\n",
       "<g id=\"node1\" class=\"node\">\n",
       "<title>0</title>\n",
       "<ellipse fill=\"none\" stroke=\"#000000\" cx=\"60\" cy=\"-45\" rx=\"18\" ry=\"18\"/>\n",
       "<ellipse fill=\"none\" stroke=\"#000000\" cx=\"60\" cy=\"-45\" rx=\"22\" ry=\"22\"/>\n",
       "<text text-anchor=\"middle\" x=\"60\" y=\"-41.3\" font-family=\"Times,serif\" font-size=\"14.00\" fill=\"#000000\">0</text>\n",
       "</g>\n",
       "<!-- 1 -->\n",
       "<g id=\"node2\" class=\"node\">\n",
       "<title>1</title>\n",
       "<ellipse fill=\"none\" stroke=\"#000000\" cx=\"147\" cy=\"-45\" rx=\"18\" ry=\"18\"/>\n",
       "<ellipse fill=\"none\" stroke=\"#000000\" cx=\"147\" cy=\"-45\" rx=\"22\" ry=\"22\"/>\n",
       "<text text-anchor=\"middle\" x=\"147\" y=\"-41.3\" font-family=\"Times,serif\" font-size=\"14.00\" fill=\"#000000\">1</text>\n",
       "</g>\n",
       "<!-- 0&#45;&gt;1 -->\n",
       "<g id=\"edge2\" class=\"edge\">\n",
       "<title>0&#45;&gt;1</title>\n",
       "<path fill=\"none\" stroke=\"#000000\" d=\"M82.4047,-45C92.2223,-45 103.9314,-45 114.6672,-45\"/>\n",
       "<polygon fill=\"#000000\" stroke=\"#000000\" points=\"114.9725,-48.5001 124.9724,-45 114.9724,-41.5001 114.9725,-48.5001\"/>\n",
       "<text text-anchor=\"middle\" x=\"103.5\" y=\"-48.8\" font-family=\"Times,serif\" font-size=\"14.00\" fill=\"#000000\">a</text>\n",
       "</g>\n",
       "<!-- __I__ -->\n",
       "<!-- __I__&#45;&gt;0 -->\n",
       "<g id=\"edge1\" class=\"edge\">\n",
       "<title>__I__&#45;&gt;0</title>\n",
       "<path fill=\"none\" stroke=\"#000000\" d=\"M1.1682,-45C4.0209,-45 15.5881,-45 27.7204,-45\"/>\n",
       "<polygon fill=\"#000000\" stroke=\"#000000\" points=\"27.8656,-48.5001 37.8655,-45 27.8655,-41.5001 27.8656,-48.5001\"/>\n",
       "</g>\n",
       "</g>\n",
       "</svg>\n"
      ],
      "text/plain": [
       "<automaton.Automaton at 0x7f38e566c6a0>"
      ]
     },
     "execution_count": 5,
     "metadata": {},
     "output_type": "execute_result"
    }
   ],
   "source": [
    "a_test.make_accept([\"0\",\"1\"])\n",
    "a_test"
   ]
  },
  {
   "cell_type": "markdown",
   "metadata": {
    "id": "7YmDl9s2lF_t"
   },
   "source": [
    "Vous pouvez afficher l'automate sous la forme textuelle à n'importe quel moment dans votre code, par exemple, pour déboguer. Notez que la fonction delta est donnée sous la forme d'un tableau de transitions:"
   ]
  },
  {
   "cell_type": "code",
   "execution_count": 6,
   "metadata": {
    "id": "DQ0_6mzAlF_v",
    "scrolled": false
   },
   "outputs": [
    {
     "name": "stdout",
     "output_type": "stream",
     "text": [
      "a_test = <Q={0,1}, S={a}, D, q0=0, F={0,1}>\n",
      "D =\n",
      "| |a|\n",
      "-----\n",
      "|0|1|\n",
      "-----\n",
      "|1| |\n",
      "-----\n"
     ]
    }
   ],
   "source": [
    "print(a_test)"
   ]
  },
  {
   "cell_type": "markdown",
   "metadata": {
    "id": "ZA0IvMGflF_0"
   },
   "source": [
    "Dans cet exemple, `Q` contient la liste d'états `{0,1}`, l'alphabet `S` est automatiquement construit à partir des transitions et contient uniquement le symbole `{a}`, l'état initial est `q0=0` et les états d'acceptation `F={0,1}`. Ces valeurs sont accessibles aussi directement, sous la forme de listes ou de chaînes de caractères, via des variables de l'automate :"
   ]
  },
  {
   "cell_type": "code",
   "execution_count": 7,
   "metadata": {
    "id": "6KzwT_xHlF_0"
   },
   "outputs": [
    {
     "name": "stdout",
     "output_type": "stream",
     "text": [
      "['0', '1']\n",
      "['a']\n",
      "0\n",
      "['0', '1']\n",
      "| |a|\n",
      "-----\n",
      "|0|1|\n",
      "-----\n",
      "|1| |\n",
      "-----\n"
     ]
    }
   ],
   "source": [
    "print(a_test.states)\n",
    "print(a_test.alphabet)\n",
    "print(a_test.initial)\n",
    "print(a_test.acceptstates)\n",
    "print(a_test.transition_table)"
   ]
  },
  {
   "cell_type": "markdown",
   "metadata": {
    "id": "bGLSDuHilF_6"
   },
   "source": [
    "Vous pouvez aussi afficher votre automate sous la forme de fichier `.txt`:"
   ]
  },
  {
   "cell_type": "code",
   "execution_count": 8,
   "metadata": {
    "id": "Gr7xz-FGlF_7"
   },
   "outputs": [
    {
     "name": "stdout",
     "output_type": "stream",
     "text": [
      "0 a 1\n",
      "A 0 1\n"
     ]
    }
   ],
   "source": [
    "print(a_test.to_txtfile(\"test.txt\"))"
   ]
  },
  {
   "cell_type": "markdown",
   "metadata": {
    "id": "mP92uxOxlGAB"
   },
   "source": [
    "Un automate peut être réinitialisé à tout moment:"
   ]
  },
  {
   "cell_type": "code",
   "execution_count": 9,
   "metadata": {
    "id": "M1_kK6fllGAC",
    "scrolled": true
   },
   "outputs": [
    {
     "data": {
      "image/svg+xml": [
       "<?xml version=\"1.0\" encoding=\"UTF-8\" standalone=\"no\"?>\n",
       "<!DOCTYPE svg PUBLIC \"-//W3C//DTD SVG 1.1//EN\"\n",
       " \"http://www.w3.org/Graphics/SVG/1.1/DTD/svg11.dtd\">\n",
       "<!-- Generated by graphviz version 2.40.1 (20161225.0304)\n",
       " -->\n",
       "<!-- Title: L Pages: 1 -->\n",
       "<svg width=\"62pt\" height=\"68pt\"\n",
       " viewBox=\"0.00 0.00 62.00 68.00\" xmlns=\"http://www.w3.org/2000/svg\" xmlns:xlink=\"http://www.w3.org/1999/xlink\">\n",
       "<g id=\"graph0\" class=\"graph\" transform=\"scale(1 1) rotate(0) translate(4 64)\">\n",
       "<title>L</title>\n",
       "<polygon fill=\"#ffffff\" stroke=\"transparent\" points=\"-4,4 -4,-64 58,-64 58,4 -4,4\"/>\n",
       "<text text-anchor=\"middle\" x=\"27\" y=\"-7.8\" font-family=\"Times,serif\" font-size=\"14.00\" fill=\"#000000\">a_test</text>\n",
       "<!-- a -->\n",
       "<g id=\"node1\" class=\"node\">\n",
       "<title>a</title>\n",
       "<polygon fill=\"none\" stroke=\"#000000\" points=\"0,-23.5 0,-59.5 54,-59.5 54,-23.5 0,-23.5\"/>\n",
       "<text text-anchor=\"middle\" x=\"27\" y=\"-37.8\" font-family=\"Times,serif\" font-size=\"14.00\" fill=\"#000000\">empty</text>\n",
       "</g>\n",
       "</g>\n",
       "</svg>\n"
      ],
      "text/plain": [
       "<automaton.Automaton at 0x7f38e566c6a0>"
      ]
     },
     "execution_count": 9,
     "metadata": {},
     "output_type": "execute_result"
    }
   ],
   "source": [
    "a_test.reset()\n",
    "a_test"
   ]
  },
  {
   "cell_type": "markdown",
   "metadata": {
    "id": "b18nZ4m5lGAH"
   },
   "source": [
    "Vous pouvez aussi construire un automate à partir d'une chaîne de caractères directement à l'aide de la fonction `from_txt`:"
   ]
  },
  {
   "cell_type": "code",
   "execution_count": 10,
   "metadata": {
    "id": "KMWAY60PlGAI"
   },
   "outputs": [
    {
     "data": {
      "image/svg+xml": [
       "<?xml version=\"1.0\" encoding=\"UTF-8\" standalone=\"no\"?>\n",
       "<!DOCTYPE svg PUBLIC \"-//W3C//DTD SVG 1.1//EN\"\n",
       " \"http://www.w3.org/Graphics/SVG/1.1/DTD/svg11.dtd\">\n",
       "<!-- Generated by graphviz version 2.40.1 (20161225.0304)\n",
       " -->\n",
       "<!-- Title: finite_state_machine Pages: 1 -->\n",
       "<svg width=\"177pt\" height=\"203pt\"\n",
       " viewBox=\"0.00 0.00 177.00 203.00\" xmlns=\"http://www.w3.org/2000/svg\" xmlns:xlink=\"http://www.w3.org/1999/xlink\">\n",
       "<g id=\"graph0\" class=\"graph\" transform=\"scale(1 1) rotate(0) translate(4 199)\">\n",
       "<title>finite_state_machine</title>\n",
       "<polygon fill=\"#ffffff\" stroke=\"transparent\" points=\"-4,4 -4,-199 173,-199 173,4 -4,4\"/>\n",
       "<text text-anchor=\"middle\" x=\"84.5\" y=\"-7.8\" font-family=\"Times,serif\" font-size=\"14.00\" fill=\"#000000\">astarbstar</text>\n",
       "<!-- 0 -->\n",
       "<g id=\"node1\" class=\"node\">\n",
       "<title>0</title>\n",
       "<ellipse fill=\"none\" stroke=\"#000000\" cx=\"60\" cy=\"-92\" rx=\"18\" ry=\"18\"/>\n",
       "<ellipse fill=\"none\" stroke=\"#000000\" cx=\"60\" cy=\"-92\" rx=\"22\" ry=\"22\"/>\n",
       "<text text-anchor=\"middle\" x=\"60\" y=\"-88.3\" font-family=\"Times,serif\" font-size=\"14.00\" fill=\"#000000\">0</text>\n",
       "</g>\n",
       "<!-- 1 -->\n",
       "<g id=\"node2\" class=\"node\">\n",
       "<title>1</title>\n",
       "<ellipse fill=\"none\" stroke=\"#000000\" cx=\"147\" cy=\"-140\" rx=\"18\" ry=\"18\"/>\n",
       "<ellipse fill=\"none\" stroke=\"#000000\" cx=\"147\" cy=\"-140\" rx=\"22\" ry=\"22\"/>\n",
       "<text text-anchor=\"middle\" x=\"147\" y=\"-136.3\" font-family=\"Times,serif\" font-size=\"14.00\" fill=\"#000000\">1</text>\n",
       "</g>\n",
       "<!-- 0&#45;&gt;1 -->\n",
       "<g id=\"edge2\" class=\"edge\">\n",
       "<title>0&#45;&gt;1</title>\n",
       "<path fill=\"none\" stroke=\"#000000\" d=\"M79.3081,-102.6528C90.829,-109.0091 105.6696,-117.197 118.5177,-124.2856\"/>\n",
       "<polygon fill=\"#000000\" stroke=\"#000000\" points=\"116.9984,-127.4447 127.445,-129.211 120.38,-121.3157 116.9984,-127.4447\"/>\n",
       "<text text-anchor=\"middle\" x=\"103.5\" y=\"-120.8\" font-family=\"Times,serif\" font-size=\"14.00\" fill=\"#000000\">a</text>\n",
       "</g>\n",
       "<!-- 2 -->\n",
       "<g id=\"node3\" class=\"node\">\n",
       "<title>2</title>\n",
       "<ellipse fill=\"none\" stroke=\"#000000\" cx=\"147\" cy=\"-45\" rx=\"18\" ry=\"18\"/>\n",
       "<ellipse fill=\"none\" stroke=\"#000000\" cx=\"147\" cy=\"-45\" rx=\"22\" ry=\"22\"/>\n",
       "<text text-anchor=\"middle\" x=\"147\" y=\"-41.3\" font-family=\"Times,serif\" font-size=\"14.00\" fill=\"#000000\">2</text>\n",
       "</g>\n",
       "<!-- 0&#45;&gt;2 -->\n",
       "<g id=\"edge3\" class=\"edge\">\n",
       "<title>0&#45;&gt;2</title>\n",
       "<path fill=\"none\" stroke=\"#000000\" d=\"M79.7416,-81.335C91.2795,-75.1019 106.0342,-67.131 118.7826,-60.2439\"/>\n",
       "<polygon fill=\"#000000\" stroke=\"#000000\" points=\"120.5015,-63.2934 127.6362,-55.4609 117.1744,-57.1347 120.5015,-63.2934\"/>\n",
       "<text text-anchor=\"middle\" x=\"103.5\" y=\"-73.8\" font-family=\"Times,serif\" font-size=\"14.00\" fill=\"#000000\">b</text>\n",
       "</g>\n",
       "<!-- 1&#45;&gt;1 -->\n",
       "<g id=\"edge4\" class=\"edge\">\n",
       "<title>1&#45;&gt;1</title>\n",
       "<path fill=\"none\" stroke=\"#000000\" d=\"M139.3173,-160.9908C138.3688,-171.0872 140.9297,-180 147,-180 150.8888,-180 153.3373,-176.3422 154.3456,-171.0587\"/>\n",
       "<polygon fill=\"#000000\" stroke=\"#000000\" points=\"157.846,-171.1023 154.6827,-160.9908 150.8499,-170.868 157.846,-171.1023\"/>\n",
       "<text text-anchor=\"middle\" x=\"147\" y=\"-183.8\" font-family=\"Times,serif\" font-size=\"14.00\" fill=\"#000000\">a</text>\n",
       "</g>\n",
       "<!-- 2&#45;&gt;2 -->\n",
       "<g id=\"edge5\" class=\"edge\">\n",
       "<title>2&#45;&gt;2</title>\n",
       "<path fill=\"none\" stroke=\"#000000\" d=\"M139.3173,-65.9908C138.3688,-76.0872 140.9297,-85 147,-85 150.8888,-85 153.3373,-81.3422 154.3456,-76.0587\"/>\n",
       "<polygon fill=\"#000000\" stroke=\"#000000\" points=\"157.846,-76.1023 154.6827,-65.9908 150.8499,-75.868 157.846,-76.1023\"/>\n",
       "<text text-anchor=\"middle\" x=\"147\" y=\"-88.8\" font-family=\"Times,serif\" font-size=\"14.00\" fill=\"#000000\">b</text>\n",
       "</g>\n",
       "<!-- __I__ -->\n",
       "<!-- __I__&#45;&gt;0 -->\n",
       "<g id=\"edge1\" class=\"edge\">\n",
       "<title>__I__&#45;&gt;0</title>\n",
       "<path fill=\"none\" stroke=\"#000000\" d=\"M1.1682,-92C4.0209,-92 15.5881,-92 27.7204,-92\"/>\n",
       "<polygon fill=\"#000000\" stroke=\"#000000\" points=\"27.8656,-95.5001 37.8655,-92 27.8655,-88.5001 27.8656,-95.5001\"/>\n",
       "</g>\n",
       "</g>\n",
       "</svg>\n"
      ],
      "text/plain": [
       "<automaton.Automaton at 0x7f38e45de0f0>"
      ]
     },
     "execution_count": 10,
     "metadata": {},
     "output_type": "execute_result"
    }
   ],
   "source": [
    "source = \"\"\"0 a 1\n",
    "0 b 2\n",
    "1 a 1\n",
    "2 b 2\n",
    "A 0 1 2\n",
    "\"\"\"\n",
    "astarbstar = automaton.Automaton(\"astarbstar\")\n",
    "astarbstar.from_txt(source)\n",
    "astarbstar"
   ]
  },
  {
   "cell_type": "markdown",
   "metadata": {
    "id": "2Mw4cJZ2lGAN"
   },
   "source": [
    "Essayez de modifier la variable `source` et observez le résultat dans l'automate. Ajouter ou supprimez des transitions, des états, des états d'acceptation...\n",
    "\n",
    "Vous pouvez aussi lire un automate en passant directement le nom du fichier à la fonction `from_txtfile` (n'oubliez pas de charger le fichier si vous êtes sur Colab):"
   ]
  },
  {
   "cell_type": "code",
   "execution_count": 11,
   "metadata": {
    "id": "chgwQjCslGAO"
   },
   "outputs": [
    {
     "name": "stderr",
     "output_type": "stream",
     "text": [
      "WARNING: Automaton astarbstar not empty: content will be lost\n"
     ]
    },
    {
     "data": {
      "image/svg+xml": [
       "<?xml version=\"1.0\" encoding=\"UTF-8\" standalone=\"no\"?>\n",
       "<!DOCTYPE svg PUBLIC \"-//W3C//DTD SVG 1.1//EN\"\n",
       " \"http://www.w3.org/Graphics/SVG/1.1/DTD/svg11.dtd\">\n",
       "<!-- Generated by graphviz version 2.40.1 (20161225.0304)\n",
       " -->\n",
       "<!-- Title: finite_state_machine Pages: 1 -->\n",
       "<svg width=\"177pt\" height=\"203pt\"\n",
       " viewBox=\"0.00 0.00 177.00 203.00\" xmlns=\"http://www.w3.org/2000/svg\" xmlns:xlink=\"http://www.w3.org/1999/xlink\">\n",
       "<g id=\"graph0\" class=\"graph\" transform=\"scale(1 1) rotate(0) translate(4 199)\">\n",
       "<title>finite_state_machine</title>\n",
       "<polygon fill=\"#ffffff\" stroke=\"transparent\" points=\"-4,4 -4,-199 173,-199 173,4 -4,4\"/>\n",
       "<text text-anchor=\"middle\" x=\"84.5\" y=\"-7.8\" font-family=\"Times,serif\" font-size=\"14.00\" fill=\"#000000\">astarbstar</text>\n",
       "<!-- 0 -->\n",
       "<g id=\"node1\" class=\"node\">\n",
       "<title>0</title>\n",
       "<ellipse fill=\"none\" stroke=\"#000000\" cx=\"60\" cy=\"-92\" rx=\"18\" ry=\"18\"/>\n",
       "<ellipse fill=\"none\" stroke=\"#000000\" cx=\"60\" cy=\"-92\" rx=\"22\" ry=\"22\"/>\n",
       "<text text-anchor=\"middle\" x=\"60\" y=\"-88.3\" font-family=\"Times,serif\" font-size=\"14.00\" fill=\"#000000\">0</text>\n",
       "</g>\n",
       "<!-- 1 -->\n",
       "<g id=\"node2\" class=\"node\">\n",
       "<title>1</title>\n",
       "<ellipse fill=\"none\" stroke=\"#000000\" cx=\"147\" cy=\"-140\" rx=\"18\" ry=\"18\"/>\n",
       "<ellipse fill=\"none\" stroke=\"#000000\" cx=\"147\" cy=\"-140\" rx=\"22\" ry=\"22\"/>\n",
       "<text text-anchor=\"middle\" x=\"147\" y=\"-136.3\" font-family=\"Times,serif\" font-size=\"14.00\" fill=\"#000000\">1</text>\n",
       "</g>\n",
       "<!-- 0&#45;&gt;1 -->\n",
       "<g id=\"edge2\" class=\"edge\">\n",
       "<title>0&#45;&gt;1</title>\n",
       "<path fill=\"none\" stroke=\"#000000\" d=\"M79.3081,-102.6528C90.829,-109.0091 105.6696,-117.197 118.5177,-124.2856\"/>\n",
       "<polygon fill=\"#000000\" stroke=\"#000000\" points=\"116.9984,-127.4447 127.445,-129.211 120.38,-121.3157 116.9984,-127.4447\"/>\n",
       "<text text-anchor=\"middle\" x=\"103.5\" y=\"-120.8\" font-family=\"Times,serif\" font-size=\"14.00\" fill=\"#000000\">a</text>\n",
       "</g>\n",
       "<!-- 2 -->\n",
       "<g id=\"node3\" class=\"node\">\n",
       "<title>2</title>\n",
       "<ellipse fill=\"none\" stroke=\"#000000\" cx=\"147\" cy=\"-45\" rx=\"18\" ry=\"18\"/>\n",
       "<ellipse fill=\"none\" stroke=\"#000000\" cx=\"147\" cy=\"-45\" rx=\"22\" ry=\"22\"/>\n",
       "<text text-anchor=\"middle\" x=\"147\" y=\"-41.3\" font-family=\"Times,serif\" font-size=\"14.00\" fill=\"#000000\">2</text>\n",
       "</g>\n",
       "<!-- 0&#45;&gt;2 -->\n",
       "<g id=\"edge3\" class=\"edge\">\n",
       "<title>0&#45;&gt;2</title>\n",
       "<path fill=\"none\" stroke=\"#000000\" d=\"M79.7416,-81.335C91.2795,-75.1019 106.0342,-67.131 118.7826,-60.2439\"/>\n",
       "<polygon fill=\"#000000\" stroke=\"#000000\" points=\"120.5015,-63.2934 127.6362,-55.4609 117.1744,-57.1347 120.5015,-63.2934\"/>\n",
       "<text text-anchor=\"middle\" x=\"103.5\" y=\"-73.8\" font-family=\"Times,serif\" font-size=\"14.00\" fill=\"#000000\">b</text>\n",
       "</g>\n",
       "<!-- 1&#45;&gt;1 -->\n",
       "<g id=\"edge4\" class=\"edge\">\n",
       "<title>1&#45;&gt;1</title>\n",
       "<path fill=\"none\" stroke=\"#000000\" d=\"M139.3173,-160.9908C138.3688,-171.0872 140.9297,-180 147,-180 150.8888,-180 153.3373,-176.3422 154.3456,-171.0587\"/>\n",
       "<polygon fill=\"#000000\" stroke=\"#000000\" points=\"157.846,-171.1023 154.6827,-160.9908 150.8499,-170.868 157.846,-171.1023\"/>\n",
       "<text text-anchor=\"middle\" x=\"147\" y=\"-183.8\" font-family=\"Times,serif\" font-size=\"14.00\" fill=\"#000000\">a</text>\n",
       "</g>\n",
       "<!-- 2&#45;&gt;2 -->\n",
       "<g id=\"edge5\" class=\"edge\">\n",
       "<title>2&#45;&gt;2</title>\n",
       "<path fill=\"none\" stroke=\"#000000\" d=\"M139.3173,-65.9908C138.3688,-76.0872 140.9297,-85 147,-85 150.8888,-85 153.3373,-81.3422 154.3456,-76.0587\"/>\n",
       "<polygon fill=\"#000000\" stroke=\"#000000\" points=\"157.846,-76.1023 154.6827,-65.9908 150.8499,-75.868 157.846,-76.1023\"/>\n",
       "<text text-anchor=\"middle\" x=\"147\" y=\"-88.8\" font-family=\"Times,serif\" font-size=\"14.00\" fill=\"#000000\">b</text>\n",
       "</g>\n",
       "<!-- __I__ -->\n",
       "<!-- __I__&#45;&gt;0 -->\n",
       "<g id=\"edge1\" class=\"edge\">\n",
       "<title>__I__&#45;&gt;0</title>\n",
       "<path fill=\"none\" stroke=\"#000000\" d=\"M1.1682,-92C4.0209,-92 15.5881,-92 27.7204,-92\"/>\n",
       "<polygon fill=\"#000000\" stroke=\"#000000\" points=\"27.8656,-95.5001 37.8655,-92 27.8655,-88.5001 27.8656,-95.5001\"/>\n",
       "</g>\n",
       "</g>\n",
       "</svg>\n"
      ],
      "text/plain": [
       "<automaton.Automaton at 0x7f38e45de0f0>"
      ]
     },
     "execution_count": 11,
     "metadata": {},
     "output_type": "execute_result"
    }
   ],
   "source": [
    "astarbstar.from_txtfile(\"test/astarbstar.af\")\n",
    "astarbstar\n"
   ]
  },
  {
   "cell_type": "markdown",
   "metadata": {
    "id": "AC9kIFzMlGAU"
   },
   "source": [
    "Les transitions-ε sont représentées par le symbole spécial `%` (constante `automaton.Automaton.EPSILON`). Vous pouvez créer un automate non-déterministe avec des transitions-ε comme ceci:"
   ]
  },
  {
   "cell_type": "code",
   "execution_count": 12,
   "metadata": {
    "id": "1GmPTR5jlGAV"
   },
   "outputs": [
    {
     "name": "stderr",
     "output_type": "stream",
     "text": [
      "WARNING: Automaton astarbstar not empty: content will be lost\n"
     ]
    },
    {
     "data": {
      "image/svg+xml": [
       "<?xml version=\"1.0\" encoding=\"UTF-8\" standalone=\"no\"?>\n",
       "<!DOCTYPE svg PUBLIC \"-//W3C//DTD SVG 1.1//EN\"\n",
       " \"http://www.w3.org/Graphics/SVG/1.1/DTD/svg11.dtd\">\n",
       "<!-- Generated by graphviz version 2.40.1 (20161225.0304)\n",
       " -->\n",
       "<!-- Title: finite_state_machine Pages: 1 -->\n",
       "<svg width=\"177pt\" height=\"203pt\"\n",
       " viewBox=\"0.00 0.00 177.00 203.00\" xmlns=\"http://www.w3.org/2000/svg\" xmlns:xlink=\"http://www.w3.org/1999/xlink\">\n",
       "<g id=\"graph0\" class=\"graph\" transform=\"scale(1 1) rotate(0) translate(4 199)\">\n",
       "<title>finite_state_machine</title>\n",
       "<polygon fill=\"#ffffff\" stroke=\"transparent\" points=\"-4,4 -4,-199 173,-199 173,4 -4,4\"/>\n",
       "<text text-anchor=\"middle\" x=\"84.5\" y=\"-7.8\" font-family=\"Times,serif\" font-size=\"14.00\" fill=\"#000000\">astarbstar</text>\n",
       "<!-- 0 -->\n",
       "<g id=\"node1\" class=\"node\">\n",
       "<title>0</title>\n",
       "<ellipse fill=\"none\" stroke=\"#000000\" cx=\"60\" cy=\"-92\" rx=\"18\" ry=\"18\"/>\n",
       "<ellipse fill=\"none\" stroke=\"#000000\" cx=\"60\" cy=\"-92\" rx=\"22\" ry=\"22\"/>\n",
       "<text text-anchor=\"middle\" x=\"60\" y=\"-88.3\" font-family=\"Times,serif\" font-size=\"14.00\" fill=\"#000000\">0</text>\n",
       "</g>\n",
       "<!-- 1 -->\n",
       "<g id=\"node2\" class=\"node\">\n",
       "<title>1</title>\n",
       "<ellipse fill=\"none\" stroke=\"#000000\" cx=\"147\" cy=\"-140\" rx=\"18\" ry=\"18\"/>\n",
       "<ellipse fill=\"none\" stroke=\"#000000\" cx=\"147\" cy=\"-140\" rx=\"22\" ry=\"22\"/>\n",
       "<text text-anchor=\"middle\" x=\"147\" y=\"-136.3\" font-family=\"Times,serif\" font-size=\"14.00\" fill=\"#000000\">1</text>\n",
       "</g>\n",
       "<!-- 0&#45;&gt;1 -->\n",
       "<g id=\"edge2\" class=\"edge\">\n",
       "<title>0&#45;&gt;1</title>\n",
       "<path fill=\"none\" stroke=\"#000000\" d=\"M79.3081,-102.6528C90.829,-109.0091 105.6696,-117.197 118.5177,-124.2856\"/>\n",
       "<polygon fill=\"#000000\" stroke=\"#000000\" points=\"116.9984,-127.4447 127.445,-129.211 120.38,-121.3157 116.9984,-127.4447\"/>\n",
       "<text text-anchor=\"middle\" x=\"103.5\" y=\"-120.8\" font-family=\"Times,serif\" font-size=\"14.00\" fill=\"#000000\">ε</text>\n",
       "</g>\n",
       "<!-- 2 -->\n",
       "<g id=\"node3\" class=\"node\">\n",
       "<title>2</title>\n",
       "<ellipse fill=\"none\" stroke=\"#000000\" cx=\"147\" cy=\"-45\" rx=\"18\" ry=\"18\"/>\n",
       "<ellipse fill=\"none\" stroke=\"#000000\" cx=\"147\" cy=\"-45\" rx=\"22\" ry=\"22\"/>\n",
       "<text text-anchor=\"middle\" x=\"147\" y=\"-41.3\" font-family=\"Times,serif\" font-size=\"14.00\" fill=\"#000000\">2</text>\n",
       "</g>\n",
       "<!-- 0&#45;&gt;2 -->\n",
       "<g id=\"edge3\" class=\"edge\">\n",
       "<title>0&#45;&gt;2</title>\n",
       "<path fill=\"none\" stroke=\"#000000\" d=\"M79.7416,-81.335C91.2795,-75.1019 106.0342,-67.131 118.7826,-60.2439\"/>\n",
       "<polygon fill=\"#000000\" stroke=\"#000000\" points=\"120.5015,-63.2934 127.6362,-55.4609 117.1744,-57.1347 120.5015,-63.2934\"/>\n",
       "<text text-anchor=\"middle\" x=\"103.5\" y=\"-73.8\" font-family=\"Times,serif\" font-size=\"14.00\" fill=\"#000000\">ε</text>\n",
       "</g>\n",
       "<!-- 1&#45;&gt;1 -->\n",
       "<g id=\"edge4\" class=\"edge\">\n",
       "<title>1&#45;&gt;1</title>\n",
       "<path fill=\"none\" stroke=\"#000000\" d=\"M139.3173,-160.9908C138.3688,-171.0872 140.9297,-180 147,-180 150.8888,-180 153.3373,-176.3422 154.3456,-171.0587\"/>\n",
       "<polygon fill=\"#000000\" stroke=\"#000000\" points=\"157.846,-171.1023 154.6827,-160.9908 150.8499,-170.868 157.846,-171.1023\"/>\n",
       "<text text-anchor=\"middle\" x=\"147\" y=\"-183.8\" font-family=\"Times,serif\" font-size=\"14.00\" fill=\"#000000\">a</text>\n",
       "</g>\n",
       "<!-- 2&#45;&gt;2 -->\n",
       "<g id=\"edge5\" class=\"edge\">\n",
       "<title>2&#45;&gt;2</title>\n",
       "<path fill=\"none\" stroke=\"#000000\" d=\"M139.3173,-65.9908C138.3688,-76.0872 140.9297,-85 147,-85 150.8888,-85 153.3373,-81.3422 154.3456,-76.0587\"/>\n",
       "<polygon fill=\"#000000\" stroke=\"#000000\" points=\"157.846,-76.1023 154.6827,-65.9908 150.8499,-75.868 157.846,-76.1023\"/>\n",
       "<text text-anchor=\"middle\" x=\"147\" y=\"-88.8\" font-family=\"Times,serif\" font-size=\"14.00\" fill=\"#000000\">b</text>\n",
       "</g>\n",
       "<!-- __I__ -->\n",
       "<!-- __I__&#45;&gt;0 -->\n",
       "<g id=\"edge1\" class=\"edge\">\n",
       "<title>__I__&#45;&gt;0</title>\n",
       "<path fill=\"none\" stroke=\"#000000\" d=\"M1.1682,-92C4.0209,-92 15.5881,-92 27.7204,-92\"/>\n",
       "<polygon fill=\"#000000\" stroke=\"#000000\" points=\"27.8656,-95.5001 37.8655,-92 27.8655,-88.5001 27.8656,-95.5001\"/>\n",
       "</g>\n",
       "</g>\n",
       "</svg>\n"
      ],
      "text/plain": [
       "<automaton.Automaton at 0x7f38e45de0f0>"
      ]
     },
     "execution_count": 12,
     "metadata": {},
     "output_type": "execute_result"
    }
   ],
   "source": [
    "source = \"\"\"0 % 1\n",
    "0 % 2\n",
    "1 a 1\n",
    "2 b 2\n",
    "A 0 1 2\n",
    "\"\"\"\n",
    "astarbstar.from_txt(source)\n",
    "astarbstar"
   ]
  },
  {
   "cell_type": "markdown",
   "metadata": {
    "id": "G5sUGG1WlGAZ"
   },
   "source": [
    "Les automates sur ce sujet s'affichent graphiquement à l'aide de la fonction `to_graphviz()`. Vous pouvez toujours copier-coller des automates ici pour les visualiser, mais il est peut-être plus pratique de les créer directement en local. Pour cela, il suffit d'appeler la fonction avec un nom de fichier, et un fichier (avec l'extension `.pdf` automatiquement ajoutée) sera créé. La fonction renvoie l'objet `graphviz` au [format DOT](https://graphviz.org/doc/info/lang.html): "
   ]
  },
  {
   "cell_type": "code",
   "execution_count": 13,
   "metadata": {
    "id": "tsO2vfhMlGAa"
   },
   "outputs": [
    {
     "name": "stdout",
     "output_type": "stream",
     "text": [
      "digraph finite_state_machine {\n",
      "  rankdir=LR;  \n",
      "  size=\"8,5\"  label=\"astarbstar\"  node [shape = doublecircle]; \"0\" \"1\" \"2\";\n",
      "  node [shape = circle];\n",
      "  __I__ [label=\"\", style=invis, width=0]\n",
      "  __I__ -> \"0\"\n",
      "  \"0\" -> \"1\" [label = ε];\n",
      "  \"0\" -> \"2\" [label = ε];\n",
      "  \"1\" -> \"1\" [label = a];\n",
      "  \"2\" -> \"2\" [label = b];\n",
      "}\n"
     ]
    }
   ],
   "source": [
    "astarbstar_gv = astarbstar.to_graphviz(\"test/astarbstar.gv\")\n",
    "print(astarbstar_gv.source)"
   ]
  },
  {
   "cell_type": "markdown",
   "metadata": {
    "id": "vKeQvRjilGAg"
   },
   "source": [
    "Vous aurez besoin d'accéder à la liste d'états et de transitions de l'automate. Chaque état est dans un dictionnaire python indexé par son nom, et contient une liste de transitions. Les transitions sont, à leur tour, des dictionnaires contenant, pour chaque symbole, un dictionnaire d'états cible. Prenez le temps de bien comprendre cette structure, cela vous aidera à mieux vous servir de la bibliothèque lors des TP."
   ]
  },
  {
   "cell_type": "code",
   "execution_count": 14,
   "metadata": {},
   "outputs": [
    {
     "name": "stdout",
     "output_type": "stream",
     "text": [
      "1\n"
     ]
    }
   ],
   "source": [
    "# source state 1 (from dict of states), transition on \"a\", first (and only) destination state\n",
    "print(str(list(astarbstar.statesdict[\"1\"].transitions[\"a\"])[0]))"
   ]
  },
  {
   "cell_type": "markdown",
   "metadata": {},
   "source": [
    "Alternativement, utilisez l'attribut `transitions` de l'automate, qui donne la liste de transitions sous la forme d'une `list` python simple. Chaque transition est une tuple de trois éléments de type `str` : source, symbole, destination. Cela peut être pratique, si vous voulez manipuler des objets plus simples que les dictionnaires et objets `State` :"
   ]
  },
  {
   "cell_type": "code",
   "execution_count": 15,
   "metadata": {},
   "outputs": [
    {
     "name": "stdout",
     "output_type": "stream",
     "text": [
      "0 --%--> 1\n",
      "0 --%--> 2\n",
      "1 --a--> 1\n",
      "2 --b--> 2\n"
     ]
    }
   ],
   "source": [
    "for (source,symb,dest) in astarbstar.transitions : # et non pas a.transitions()\n",
    "  print( \"{} --{}--> {}\".format(source,symb,dest))"
   ]
  },
  {
   "cell_type": "markdown",
   "metadata": {},
   "source": [
    "Vous trouverez d'autres exemples d'usage de la bibliothèque dans `automaton.py` à la toute fin du code-source."
   ]
  },
  {
   "cell_type": "markdown",
   "metadata": {
    "id": "wwbVoN2GlGAh"
   },
   "source": [
    "# Travail à effectuer\n",
    "\n",
    "Votre travail consiste à implémenter deux fonctionnalités:\n",
    "\n",
    "1.   Écrire une fonction qui prend un automate fini en entrée et qui renvoie un booléen pour indiquer si, oui ou non, l'automate est déterministe\n",
    "\n",
    "2.   Écrire une fonction qui prend un automate fini déterministe et un mot en entrée, et qui renvoie un booléen pour indiquer si, oui ou non, le mot est reconnu par l'automate\n",
    "\n",
    "De plus, vous devez écrire un script/programme qui peut être exécuté sur un terminal et qui prend en entrée (`sys.argv`) deux [arguments](https://riptutorial.com/fr/python/example/6530/utilisation-d-arguments-en-ligne-de-commande-avec-argv): un fichier texte contenant un automate et un mot à reconnaître, dans cet ordre. Le script doit :\n",
    "\n",
    "1.   Charger l'automate depuis le fichier texte (à l'aide de la bibliothèque fournie)\n",
    "\n",
    "2.   Vérifier si l'automate est déterministe (fonctionnalité 1 ci-dessus) et, sinon, afficher _ERROR_\n",
    "\n",
    "3.   Si l'automate est déterministe, vérifier s'il reconnaît le mot (fonctionnalité 2 ci-dessus) et afficher _YES_ si le mot est reconnu, _NO_ sinon\n",
    "\n",
    "Quelques fichiers de test vous sont fournis dans le dossier `test`. Voici quelques exemples d'exécution pour votre programme (supposons qu'il s'appelle `tp1automates.py` - squelette fourni):\n",
    "\n",
    "```bash\n",
    "$ ./tp1automates.py test/astarbstar.af a\n",
    "YES\n",
    "$ ./tp1automates.py test/astarbstar.af b\n",
    "YES\n",
    "$ ./tp1automates.py test/astarbstar.af bbb\n",
    "YES\n",
    "$ ./tp1automates.py test/astarbstar.af %\n",
    "YES\n",
    "$ ./tp1automates.py test/astarbstar.af aaaaaaa\n",
    "YES\n",
    "$ ./tp1automates.py test/astarbstar.af bbaa\n",
    "NO\n",
    "$ ./tp1automates.py test/astarbstar.af aba\n",
    "NO\n",
    "$ ./tp1automates.py test/astarbstar.af aabbb\n",
    "NO\n",
    "$ ./tp1automates.py test/astarbstar.af abc\n",
    "NO\n",
    "$ ./tp1automates.py test/astarbstar-epsilon.af abb\n",
    "ERROR\n",
    "$ ./tp1automates.py test/astarbstar-nfa.af abb\n",
    "ERROR\n",
    "```\n",
    "\n",
    "Vous devez non seulement implémenter la fonction mais aussi la tester. Pour cela, écrivez 3 automates finis au format textuel pour étendre la base de tests au délà des deux fichiers fournis. Vous pouvez utiliser des automates vus en cours ou en TD. Ces automates doivent être placés dans le dossier `test` et formeront votre base de tests, qui grandira au fur et à mesure des TPs. Vous pouvez générer les `.pdf` correspondants à chaque automate test à l'aide de la fonction `to_graphviz()`\n",
    "\n",
    "Pour déboguer votre programme, n'oubliez pas que vous pouvez à tout moment appeler `print(a)` pour afficher l'automate sur le terminal, ou appeler `a.to_graphviz(\"out.pdf\")` pour le visualiser graphiquement dans un fichier `out.pdf`. En python, vous pouvez/devez aussi utiliser la bibliothèque `pdb` pour le débogage, et vous pouvez aussi typer votre programme et vérifier les types à l'aide de `mypy`."
   ]
  },
  {
   "cell_type": "code",
   "execution_count": null,
   "metadata": {},
   "outputs": [],
   "source": []
  }
 ],
 "metadata": {
  "colab": {
   "collapsed_sections": [],
   "name": "Automates_TP1 ",
   "provenance": [],
   "toc_visible": true
  },
  "kernelspec": {
   "display_name": "Python 3",
   "language": "python",
   "name": "python3"
  },
  "language_info": {
   "codemirror_mode": {
    "name": "ipython",
    "version": 3
   },
   "file_extension": ".py",
   "mimetype": "text/x-python",
   "name": "python",
   "nbconvert_exporter": "python",
   "pygments_lexer": "ipython3",
   "version": "3.6.9"
  }
 },
 "nbformat": 4,
 "nbformat_minor": 1
}
